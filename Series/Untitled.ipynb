{
 "cells": [
  {
   "cell_type": "markdown",
   "id": "c4b063e1-1ae8-4c78-a739-ee13fe2133af",
   "metadata": {},
   "source": [
    "# Series"
   ]
  },
  {
   "cell_type": "code",
   "execution_count": 2,
   "id": "b6e8a3cf-cd10-47b1-8c6a-17d42fd463fb",
   "metadata": {},
   "outputs": [],
   "source": [
    "import pandas as pd;"
   ]
  },
  {
   "cell_type": "markdown",
   "id": "a0410dfb-caa4-4d4b-b14f-a6b883612337",
   "metadata": {},
   "source": [
    "### Create a Series Object from a list \n",
    "\n",
    "* A pandas Series is a One-dimensional array.\n",
    "* A series combines the best features of a list and a dictionary.\n",
    "* A Series maintains a single collection of ordered values\n"
   ]
  },
  {
   "cell_type": "code",
   "execution_count": 3,
   "id": "e8996cdd-10f5-4bde-aeff-7483131cebea",
   "metadata": {},
   "outputs": [],
   "source": [
    "ice_cream=['Chacolate', 'Vennela', \"Strawberry\"]\n",
    "flavour=pd.Series(ice_cream, name=\"Flavour\")"
   ]
  },
  {
   "cell_type": "code",
   "execution_count": 4,
   "id": "87715ac0-4bf6-42a0-b597-8bc6e54e86f5",
   "metadata": {},
   "outputs": [
    {
     "data": {
      "text/plain": [
       "0     Chacolate\n",
       "1       Vennela\n",
       "2    Strawberry\n",
       "Name: Flavour, dtype: object"
      ]
     },
     "execution_count": 4,
     "metadata": {},
     "output_type": "execute_result"
    }
   ],
   "source": [
    "flavour"
   ]
  },
  {
   "cell_type": "markdown",
   "id": "5ff28eda-c04b-4401-89b2-e4968ca0def6",
   "metadata": {},
   "source": [
    "### Create a Series Object from a dictionary"
   ]
  },
  {
   "cell_type": "code",
   "execution_count": 5,
   "id": "0765dfba-ebb3-4150-b849-9614375e558d",
   "metadata": {},
   "outputs": [
    {
     "data": {
      "text/plain": [
       "Salmon    Orange\n",
       "Tuna         red\n",
       "Eel        Brown\n",
       "dtype: object"
      ]
     },
     "execution_count": 5,
     "metadata": {},
     "output_type": "execute_result"
    }
   ],
   "source": [
    "sushi={\n",
    "    'Salmon':'Orange',\n",
    "    'Tuna':'red',\n",
    "    'Eel':'Brown'\n",
    "}\n",
    "pd.Series(sushi)\n",
    "    "
   ]
  },
  {
   "cell_type": "markdown",
   "id": "ec04a170-3406-4090-9521-f640b2c21439",
   "metadata": {},
   "source": [
    "### Intro to Series Mathods"
   ]
  },
  {
   "cell_type": "code",
   "execution_count": 6,
   "id": "eef6d35a-7f8b-4b34-91ca-9e77baa3f02b",
   "metadata": {},
   "outputs": [],
   "source": [
    "prices=pd.Series([2.99, 4.55,1.36])"
   ]
  },
  {
   "cell_type": "code",
   "execution_count": 7,
   "id": "3ce25b1c-d699-47ee-912f-49c03151c1a1",
   "metadata": {},
   "outputs": [
    {
     "data": {
      "text/plain": [
       "0    2.99\n",
       "1    4.55\n",
       "2    1.36\n",
       "dtype: float64"
      ]
     },
     "execution_count": 7,
     "metadata": {},
     "output_type": "execute_result"
    }
   ],
   "source": [
    "prices"
   ]
  },
  {
   "cell_type": "code",
   "execution_count": 8,
   "id": "7c8bdd28-eb0b-4b61-a193-baa96193c248",
   "metadata": {},
   "outputs": [
    {
     "data": {
      "text/plain": [
       "8.9"
      ]
     },
     "execution_count": 8,
     "metadata": {},
     "output_type": "execute_result"
    }
   ],
   "source": [
    "prices.sum()"
   ]
  },
  {
   "cell_type": "code",
   "execution_count": 9,
   "id": "75a5cf2c-2618-46aa-8fd0-8595bd11427b",
   "metadata": {},
   "outputs": [
    {
     "data": {
      "text/plain": [
       "18.50212"
      ]
     },
     "execution_count": 9,
     "metadata": {},
     "output_type": "execute_result"
    }
   ],
   "source": [
    "prices.product()"
   ]
  },
  {
   "cell_type": "code",
   "execution_count": 10,
   "id": "448caae4-0f18-47ca-8d5a-baac001a7a3b",
   "metadata": {},
   "outputs": [
    {
     "data": {
      "text/plain": [
       "2.966666666666667"
      ]
     },
     "execution_count": 10,
     "metadata": {},
     "output_type": "execute_result"
    }
   ],
   "source": [
    "prices.mean()"
   ]
  },
  {
   "cell_type": "markdown",
   "id": "fffbf0ac-6212-4813-bb19-b2355a7609bb",
   "metadata": {},
   "source": [
    "### Intro to Attributes\n",
    "* An Attribute is a piece that lives on an object.\n",
    "* An attribute is a fact, a detail, a characteristic of the object.\n",
    "* Access an attribute with object.attribute syntax."
   ]
  },
  {
   "cell_type": "code",
   "execution_count": 11,
   "id": "04a18dfe-6a77-4e40-ada8-2dcf19530f5e",
   "metadata": {},
   "outputs": [],
   "source": [
    "adj=pd.Series(['Smart', 'Hamdsome','charming'])"
   ]
  },
  {
   "cell_type": "code",
   "execution_count": 12,
   "id": "5d1b12d6-26d9-4716-a095-8c8b4e4a718c",
   "metadata": {},
   "outputs": [
    {
     "data": {
      "text/plain": [
       "3"
      ]
     },
     "execution_count": 12,
     "metadata": {},
     "output_type": "execute_result"
    }
   ],
   "source": [
    "adj.size"
   ]
  },
  {
   "cell_type": "code",
   "execution_count": 13,
   "id": "81466b38-60dc-42a8-8c99-213f0ea355f2",
   "metadata": {},
   "outputs": [
    {
     "data": {
      "text/plain": [
       "True"
      ]
     },
     "execution_count": 13,
     "metadata": {},
     "output_type": "execute_result"
    }
   ],
   "source": [
    "adj.is_unique"
   ]
  },
  {
   "cell_type": "code",
   "execution_count": 14,
   "id": "a7981131-7af6-45b9-b527-e2df807e6ce3",
   "metadata": {},
   "outputs": [
    {
     "data": {
      "text/plain": [
       "RangeIndex(start=0, stop=3, step=1)"
      ]
     },
     "execution_count": 14,
     "metadata": {},
     "output_type": "execute_result"
    }
   ],
   "source": [
    "adj.index"
   ]
  },
  {
   "cell_type": "code",
   "execution_count": 15,
   "id": "800c9e61-ba84-4915-8872-bde6ffc9d362",
   "metadata": {},
   "outputs": [
    {
     "data": {
      "text/plain": [
       "array(['Smart', 'Hamdsome', 'charming'], dtype=object)"
      ]
     },
     "execution_count": 15,
     "metadata": {},
     "output_type": "execute_result"
    }
   ],
   "source": [
    "adj.values"
   ]
  },
  {
   "cell_type": "code",
   "execution_count": 16,
   "id": "4171792b-e216-4acf-8000-155535a4ed3f",
   "metadata": {},
   "outputs": [
    {
     "data": {
      "text/plain": [
       "numpy.ndarray"
      ]
     },
     "execution_count": 16,
     "metadata": {},
     "output_type": "execute_result"
    }
   ],
   "source": [
    "type(adj.values)"
   ]
  },
  {
   "cell_type": "markdown",
   "id": "0ab3f0a3-7a08-418f-b8ca-3896e49938e3",
   "metadata": {},
   "source": [
    "### Parameters and Arguments"
   ]
  },
  {
   "cell_type": "code",
   "execution_count": 17,
   "id": "985484a2-b434-4455-b23a-bc9699972208",
   "metadata": {},
   "outputs": [],
   "source": [
    "fruits=['apple','mango', 'berry','orange']\n",
    "weekdays=['monday','tuesday', 'wednesday', 'thursday']"
   ]
  },
  {
   "cell_type": "code",
   "execution_count": 18,
   "id": "9de26040-f93d-4c91-a768-1db4659594e7",
   "metadata": {},
   "outputs": [
    {
     "data": {
      "text/plain": [
       "0     apple\n",
       "1     mango\n",
       "2     berry\n",
       "3    orange\n",
       "dtype: object"
      ]
     },
     "execution_count": 18,
     "metadata": {},
     "output_type": "execute_result"
    }
   ],
   "source": [
    "pd.Series(fruits)"
   ]
  },
  {
   "cell_type": "code",
   "execution_count": 19,
   "id": "55fbfc80-995f-4a25-8df7-be37b30966a3",
   "metadata": {},
   "outputs": [
    {
     "data": {
      "text/plain": [
       "monday        apple\n",
       "tuesday       mango\n",
       "wednesday     berry\n",
       "thursday     orange\n",
       "Name: daily, dtype: object"
      ]
     },
     "execution_count": 19,
     "metadata": {},
     "output_type": "execute_result"
    }
   ],
   "source": [
    "pd.Series(data=fruits, index=weekdays, name=\"daily\")"
   ]
  },
  {
   "cell_type": "markdown",
   "id": "dc4b2cc2-0fce-4357-82a6-5a365c420a62",
   "metadata": {},
   "source": [
    "# Import Series with the pd.read_csv Function\n",
    "* A CSV is a plaint text file that uses the breaks to separate rows and columns to separate row values.\n",
    "* Pandas ships with many different read_ functions for different types of files.\n",
    "* The read_csv function accepts many different parameters, The first one specifies the file name/path.\n",
    "* The usecols parameter accepts a list of the columns to import\n",
    "* The squeeze method converst a DatFrame to a series"
   ]
  },
  {
   "cell_type": "code",
   "execution_count": 20,
   "id": "ea9efc13-7212-4083-a159-d6a53e401229",
   "metadata": {},
   "outputs": [],
   "source": [
    "pokemon=pd.read_csv('pokemon.csv', usecols=['Name']).squeeze('columns')"
   ]
  },
  {
   "cell_type": "code",
   "execution_count": 21,
   "id": "c8644423-657f-435d-b008-3945d608ac0c",
   "metadata": {},
   "outputs": [
    {
     "data": {
      "text/plain": [
       "0          Bulbasaur\n",
       "1            Ivysaur\n",
       "2           Venusaur\n",
       "3         Charmander\n",
       "4         Charmeleon\n",
       "            ...     \n",
       "1005    Iron Valiant\n",
       "1006        Koraidon\n",
       "1007        Miraidon\n",
       "1008    Walking Wake\n",
       "1009     Iron Leaves\n",
       "Name: Name, Length: 1010, dtype: object"
      ]
     },
     "execution_count": 21,
     "metadata": {},
     "output_type": "execute_result"
    }
   ],
   "source": [
    "pokemon"
   ]
  },
  {
   "cell_type": "code",
   "execution_count": 22,
   "id": "4f5790a3-005e-454d-928c-4b1f5ccacc1c",
   "metadata": {},
   "outputs": [
    {
     "ename": "TypeError",
     "evalue": "string indices must be integers, not 'str'",
     "output_type": "error",
     "traceback": [
      "\u001b[1;31m---------------------------------------------------------------------------\u001b[0m",
      "\u001b[1;31mTypeError\u001b[0m                                 Traceback (most recent call last)",
      "Cell \u001b[1;32mIn[22], line 1\u001b[0m\n\u001b[1;32m----> 1\u001b[0m \u001b[43mpokemon\u001b[49m\u001b[38;5;241;43m.\u001b[39;49m\u001b[43mloc\u001b[49m\u001b[43m[\u001b[49m\u001b[38;5;241;43m3\u001b[39;49m\u001b[43m]\u001b[49m\u001b[43m[\u001b[49m\u001b[38;5;124;43m'\u001b[39;49m\u001b[38;5;124;43mType\u001b[39;49m\u001b[38;5;124;43m'\u001b[39;49m\u001b[43m]\u001b[49m\n",
      "\u001b[1;31mTypeError\u001b[0m: string indices must be integers, not 'str'"
     ]
    }
   ],
   "source": [
    "pokemon.loc[3]['Type']"
   ]
  },
  {
   "cell_type": "markdown",
   "id": "4cbc8f72-223e-4cfd-be34-f94f7cf7598a",
   "metadata": {},
   "source": [
    "# The head and tail methods\n",
    "* The head method returns a number of rows from the beginning of the series.\n",
    "* The tail method returns a number of rows from the bottom of the series."
   ]
  },
  {
   "cell_type": "code",
   "execution_count": null,
   "id": "494dfc68-1013-4a1d-b00c-cd69afcb564e",
   "metadata": {},
   "outputs": [],
   "source": [
    "pokemon.head()"
   ]
  },
  {
   "cell_type": "code",
   "execution_count": null,
   "id": "56b525b3-386a-4468-b774-d623abcc4e53",
   "metadata": {},
   "outputs": [],
   "source": [
    "pokemon.head(10)"
   ]
  },
  {
   "cell_type": "code",
   "execution_count": null,
   "id": "2ff5b306-d1b1-411f-b67e-995f34b8e1fd",
   "metadata": {},
   "outputs": [],
   "source": [
    "pokemon.tail()"
   ]
  },
  {
   "cell_type": "code",
   "execution_count": null,
   "id": "2fb5e82d-29d7-4b1b-9191-637075f5e71c",
   "metadata": {},
   "outputs": [],
   "source": [
    "pokemon.tail(10)"
   ]
  },
  {
   "cell_type": "markdown",
   "id": "9b646d4d-a5af-4406-b459-d71215d09996",
   "metadata": {},
   "source": [
    "# Passing Series to Python's Built-in Functions\n",
    "* The len function returns the length of th Series.\n",
    "* The type function returns the type of an object.\n",
    "* The list function converts the Series to a list.\n",
    "* The dict function converts the series to a dictionary.\n",
    "* The sorted function converts the Series to a sorted list.\n",
    "* The max and min functions returns the largest and smallest value in the Series."
   ]
  },
  {
   "cell_type": "code",
   "execution_count": null,
   "id": "fd54bb33-251c-446e-aec5-32b647058726",
   "metadata": {},
   "outputs": [],
   "source": [
    "len(pokemon)"
   ]
  },
  {
   "cell_type": "code",
   "execution_count": null,
   "id": "d99d0897-b108-4749-9ace-d0d90396db5c",
   "metadata": {},
   "outputs": [],
   "source": [
    "type(pokemon)"
   ]
  },
  {
   "cell_type": "code",
   "execution_count": null,
   "id": "def60128-3611-490c-8817-cbc1b0c7e975",
   "metadata": {},
   "outputs": [],
   "source": [
    "list(pokemon)"
   ]
  },
  {
   "cell_type": "code",
   "execution_count": null,
   "id": "66b4ae0a-144e-4cba-b545-ddddbf4d729b",
   "metadata": {},
   "outputs": [],
   "source": [
    "dict(pokemon)"
   ]
  },
  {
   "cell_type": "code",
   "execution_count": null,
   "id": "a7ed9053-492e-477f-891e-42ddabe3c33f",
   "metadata": {},
   "outputs": [],
   "source": [
    "sorted(pokemon)"
   ]
  },
  {
   "cell_type": "code",
   "execution_count": null,
   "id": "a2f13b0c-5987-43a2-8577-2ea8dc1f8aea",
   "metadata": {},
   "outputs": [],
   "source": [
    "max(pokemon)"
   ]
  },
  {
   "cell_type": "code",
   "execution_count": null,
   "id": "9069dcfc-b287-430a-bcc8-4632671b4136",
   "metadata": {},
   "outputs": [],
   "source": [
    "min(pokemon)"
   ]
  },
  {
   "cell_type": "markdown",
   "id": "a8ef5b7f-d4a7-4609-afc7-868c36c5034c",
   "metadata": {},
   "source": [
    "# Check for inclusion with Python's in keyword\n",
    "* The in keyword checks if a value exists within an object.\n",
    "* The in keyword will look for a values in the Series's index.\n",
    "* Use the index and values attributes to access 'nested' objects within the Series.\n",
    "* Combine the in keyword with values to search within the Series's values.\n"
   ]
  },
  {
   "cell_type": "code",
   "execution_count": null,
   "id": "b8d9356a-5762-4bc0-b3b2-da84c47d879d",
   "metadata": {},
   "outputs": [],
   "source": [
    "2 in [1,2]"
   ]
  },
  {
   "cell_type": "code",
   "execution_count": null,
   "id": "ce0bdfba-46f2-41af-8d6c-b6c31e428cb3",
   "metadata": {},
   "outputs": [],
   "source": [
    "\"car\" in \"racecar\""
   ]
  },
  {
   "cell_type": "code",
   "execution_count": null,
   "id": "bb7ddb87-5350-47ef-8bc3-58371d9919c5",
   "metadata": {},
   "outputs": [],
   "source": [
    "pokemon"
   ]
  },
  {
   "cell_type": "code",
   "execution_count": null,
   "id": "8df3c85c-3664-4d59-a36a-9f688ec6e471",
   "metadata": {},
   "outputs": [],
   "source": [
    "'Bulbasaur' in pokemon.values"
   ]
  },
  {
   "cell_type": "code",
   "execution_count": null,
   "id": "171d11a2-05d1-4c06-a09b-1707adf4617c",
   "metadata": {},
   "outputs": [],
   "source": [
    "pokemon.values"
   ]
  },
  {
   "cell_type": "markdown",
   "id": "97393999-4c4d-49a3-8c43-6a93d02f28a5",
   "metadata": {},
   "source": [
    "### The Sort_values method\n",
    "* Sorts a Series by its values.\n",
    "* By default it is set to ascending."
   ]
  },
  {
   "cell_type": "code",
   "execution_count": null,
   "id": "b3a2cadf-9b12-40e7-9798-38799a953cbe",
   "metadata": {},
   "outputs": [],
   "source": [
    "pokemon.sort_values()"
   ]
  },
  {
   "cell_type": "code",
   "execution_count": null,
   "id": "b7141e77-8e94-4551-938f-6ecfcb390dc6",
   "metadata": {},
   "outputs": [],
   "source": [
    "pokemon.sort_values(ascending=False)"
   ]
  },
  {
   "cell_type": "code",
   "execution_count": null,
   "id": "0972e678-b878-44a9-a8d1-a75bbf45e1d6",
   "metadata": {},
   "outputs": [],
   "source": [
    "pokemon.sort_values()"
   ]
  },
  {
   "cell_type": "code",
   "execution_count": null,
   "id": "2d6069c1-3e9c-4d5a-8088-d1d86395cd78",
   "metadata": {},
   "outputs": [],
   "source": [
    "pokemon.sort_index().head()"
   ]
  },
  {
   "cell_type": "markdown",
   "id": "964bde2b-cedb-47b5-8ad5-3f9bd8bfd4c9",
   "metadata": {},
   "source": [
    "# Extract Series Value b Index Position\n",
    "* Use the iloc accessor to extract a Series value by its index position.\n",
    "* iloc is short for \"index location\".\n",
    "  "
   ]
  },
  {
   "cell_type": "code",
   "execution_count": null,
   "id": "3c2af4d0-59a2-45f8-923b-25d4fd218f61",
   "metadata": {},
   "outputs": [],
   "source": [
    "pokemon.iloc[0:5]"
   ]
  },
  {
   "cell_type": "code",
   "execution_count": null,
   "id": "a6799830-5094-4421-9cd2-f76e77aa6da5",
   "metadata": {},
   "outputs": [],
   "source": [
    "pokemon.iloc[9]"
   ]
  },
  {
   "cell_type": "code",
   "execution_count": null,
   "id": "3c87fa6a-c158-4dc5-9f85-1bb0d30e5851",
   "metadata": {},
   "outputs": [],
   "source": [
    "pokemon.iloc[[100, 200, 300]]"
   ]
  },
  {
   "cell_type": "code",
   "execution_count": 23,
   "id": "ef018bcb-1a12-46e0-919a-8e6bc6d5a11d",
   "metadata": {},
   "outputs": [
    {
     "data": {
      "text/plain": [
       "'Iron Leaves'"
      ]
     },
     "execution_count": 23,
     "metadata": {},
     "output_type": "execute_result"
    }
   ],
   "source": [
    "pokemon.iloc[-1]"
   ]
  },
  {
   "cell_type": "code",
   "execution_count": 25,
   "id": "de9b5e25-2e8d-4774-9d11-a9ef6ac8499b",
   "metadata": {},
   "outputs": [
    {
     "data": {
      "text/plain": [
       "1002         Ting-Lu\n",
       "1003          Chi-Yu\n",
       "1004    Roaring Moon\n",
       "1005    Iron Valiant\n",
       "1006        Koraidon\n",
       "1007        Miraidon\n",
       "1008    Walking Wake\n",
       "1009     Iron Leaves\n",
       "Name: Name, dtype: object"
      ]
     },
     "execution_count": 25,
     "metadata": {},
     "output_type": "execute_result"
    }
   ],
   "source": [
    "pokemon.iloc[-8:]"
   ]
  },
  {
   "cell_type": "code",
   "execution_count": 26,
   "id": "e3f3d4ea-08c1-4068-8a92-fe2fb26fdfdd",
   "metadata": {},
   "outputs": [
    {
     "data": {
      "text/plain": [
       "12       Weedle\n",
       "133    Vaporeon\n",
       "19     Raticate\n",
       "Name: Name, dtype: object"
      ]
     },
     "execution_count": 26,
     "metadata": {},
     "output_type": "execute_result"
    }
   ],
   "source": [
    "pokemon[[12, 133, 19]]"
   ]
  },
  {
   "cell_type": "code",
   "execution_count": 31,
   "id": "b179e737-93ba-4462-8cc6-1eb74ffa920a",
   "metadata": {},
   "outputs": [
    {
     "data": {
      "text/plain": [
       "9       Caterpie\n",
       "10       Metapod\n",
       "11    Butterfree\n",
       "12        Weedle\n",
       "Name: Name, dtype: object"
      ]
     },
     "execution_count": 31,
     "metadata": {},
     "output_type": "execute_result"
    }
   ],
   "source": [
    "pokemon.iloc[9:13]"
   ]
  },
  {
   "cell_type": "markdown",
   "id": "d7aff00c-e342-4e85-93a8-096004a3c399",
   "metadata": {},
   "source": [
    "# Extract Series value by Index Label"
   ]
  },
  {
   "cell_type": "code",
   "execution_count": 32,
   "id": "19f8c363-e9ff-4bab-89e7-87b38b999860",
   "metadata": {},
   "outputs": [],
   "source": [
    "pokemon=pd.read_csv('pokemon.csv', index_col=\"Name\").squeeze('columns')"
   ]
  },
  {
   "cell_type": "code",
   "execution_count": 33,
   "id": "f4181730-d68c-42d5-9a67-6697c5eae76d",
   "metadata": {},
   "outputs": [
    {
     "data": {
      "text/plain": [
       "Name\n",
       "Bulbasaur     Grass, Poison\n",
       "Ivysaur       Grass, Poison\n",
       "Venusaur      Grass, Poison\n",
       "Charmander             Fire\n",
       "Charmeleon             Fire\n",
       "Name: Type, dtype: object"
      ]
     },
     "execution_count": 33,
     "metadata": {},
     "output_type": "execute_result"
    }
   ],
   "source": [
    "pokemon.head()"
   ]
  },
  {
   "cell_type": "code",
   "execution_count": 34,
   "id": "337e469c-514c-4dd8-b4d7-80a27f25eb42",
   "metadata": {},
   "outputs": [
    {
     "data": {
      "text/plain": [
       "'Grass, Poison'"
      ]
     },
     "execution_count": 34,
     "metadata": {},
     "output_type": "execute_result"
    }
   ],
   "source": [
    "pokemon.loc['Ivysaur']"
   ]
  },
  {
   "cell_type": "code",
   "execution_count": 35,
   "id": "68892bef-9a7b-4148-a7d8-b344f42d672d",
   "metadata": {},
   "outputs": [
    {
     "data": {
      "text/plain": [
       "'Grass, Poison'"
      ]
     },
     "execution_count": 35,
     "metadata": {},
     "output_type": "execute_result"
    }
   ],
   "source": [
    "pokemon.iloc[2]"
   ]
  },
  {
   "cell_type": "code",
   "execution_count": 36,
   "id": "1ebea197-35da-4f2b-967f-d517065da87a",
   "metadata": {},
   "outputs": [
    {
     "data": {
      "text/plain": [
       "'Grass, Poison'"
      ]
     },
     "execution_count": 36,
     "metadata": {},
     "output_type": "execute_result"
    }
   ],
   "source": [
    "pokemon[0]"
   ]
  },
  {
   "cell_type": "code",
   "execution_count": 41,
   "id": "39361991-1136-40e5-9d0f-677873697cd4",
   "metadata": {},
   "outputs": [
    {
     "data": {
      "text/plain": [
       "Name\n",
       "Bulbasaur     Grass, Poison\n",
       "Ivysaur       Grass, Poison\n",
       "Venusaur      Grass, Poison\n",
       "Charmander             Fire\n",
       "Charmeleon             Fire\n",
       "Name: Type, dtype: object"
      ]
     },
     "execution_count": 41,
     "metadata": {},
     "output_type": "execute_result"
    }
   ],
   "source": [
    "pokemon.loc['Bulbasaur':'Charmeleon']"
   ]
  },
  {
   "cell_type": "code",
   "execution_count": 43,
   "id": "c6f6f4d5-2fb3-4a3d-ae48-6a7b78bfb66f",
   "metadata": {},
   "outputs": [
    {
     "data": {
      "text/plain": [
       "Name\n",
       "Bulbasaur     Grass, Poison\n",
       "Ivysaur       Grass, Poison\n",
       "Venusaur      Grass, Poison\n",
       "Charmander             Fire\n",
       "Charmeleon             Fire\n",
       "Name: Type, dtype: object"
      ]
     },
     "execution_count": 43,
     "metadata": {},
     "output_type": "execute_result"
    }
   ],
   "source": [
    "pokemon[0:5]"
   ]
  },
  {
   "cell_type": "markdown",
   "id": "82437b35-676d-42d2-befb-153a2dac24a3",
   "metadata": {},
   "source": [
    "# The get method on a Series\n",
    "* The get method extracts a Series value by index label. It is an alternative option to square brackets.\n",
    "* The get method's second argument sets the fallback value to return if the label/position does not exist."
   ]
  },
  {
   "cell_type": "code",
   "execution_count": 45,
   "id": "20d38cf1-e10e-4f49-ad0a-b15240684a20",
   "metadata": {},
   "outputs": [
    {
     "data": {
      "text/plain": [
       "'Grass, Poison'"
      ]
     },
     "execution_count": 45,
     "metadata": {},
     "output_type": "execute_result"
    }
   ],
   "source": [
    "pokemon.get('Bulbasaur')"
   ]
  },
  {
   "cell_type": "code",
   "execution_count": 48,
   "id": "d8950519-aebc-4cf9-ad11-e3b017cdbb9b",
   "metadata": {},
   "outputs": [],
   "source": [
    "pokemon.get('Maki')"
   ]
  },
  {
   "cell_type": "code",
   "execution_count": 49,
   "id": "f91dbcbb-ac74-4868-8e35-3590dbd9733d",
   "metadata": {},
   "outputs": [
    {
     "ename": "KeyError",
     "evalue": "'Maki'",
     "output_type": "error",
     "traceback": [
      "\u001b[1;31m---------------------------------------------------------------------------\u001b[0m",
      "\u001b[1;31mKeyError\u001b[0m                                  Traceback (most recent call last)",
      "File \u001b[1;32m~\\AppData\\Local\\Programs\\Python\\Python311\\Lib\\site-packages\\pandas\\core\\indexes\\base.py:3653\u001b[0m, in \u001b[0;36mIndex.get_loc\u001b[1;34m(self, key)\u001b[0m\n\u001b[0;32m   3652\u001b[0m \u001b[38;5;28;01mtry\u001b[39;00m:\n\u001b[1;32m-> 3653\u001b[0m     \u001b[38;5;28;01mreturn\u001b[39;00m \u001b[38;5;28;43mself\u001b[39;49m\u001b[38;5;241;43m.\u001b[39;49m\u001b[43m_engine\u001b[49m\u001b[38;5;241;43m.\u001b[39;49m\u001b[43mget_loc\u001b[49m\u001b[43m(\u001b[49m\u001b[43mcasted_key\u001b[49m\u001b[43m)\u001b[49m\n\u001b[0;32m   3654\u001b[0m \u001b[38;5;28;01mexcept\u001b[39;00m \u001b[38;5;167;01mKeyError\u001b[39;00m \u001b[38;5;28;01mas\u001b[39;00m err:\n",
      "File \u001b[1;32m~\\AppData\\Local\\Programs\\Python\\Python311\\Lib\\site-packages\\pandas\\_libs\\index.pyx:147\u001b[0m, in \u001b[0;36mpandas._libs.index.IndexEngine.get_loc\u001b[1;34m()\u001b[0m\n",
      "File \u001b[1;32m~\\AppData\\Local\\Programs\\Python\\Python311\\Lib\\site-packages\\pandas\\_libs\\index.pyx:176\u001b[0m, in \u001b[0;36mpandas._libs.index.IndexEngine.get_loc\u001b[1;34m()\u001b[0m\n",
      "File \u001b[1;32mpandas\\_libs\\hashtable_class_helper.pxi:7080\u001b[0m, in \u001b[0;36mpandas._libs.hashtable.PyObjectHashTable.get_item\u001b[1;34m()\u001b[0m\n",
      "File \u001b[1;32mpandas\\_libs\\hashtable_class_helper.pxi:7088\u001b[0m, in \u001b[0;36mpandas._libs.hashtable.PyObjectHashTable.get_item\u001b[1;34m()\u001b[0m\n",
      "\u001b[1;31mKeyError\u001b[0m: 'Maki'",
      "\nThe above exception was the direct cause of the following exception:\n",
      "\u001b[1;31mKeyError\u001b[0m                                  Traceback (most recent call last)",
      "Cell \u001b[1;32mIn[49], line 1\u001b[0m\n\u001b[1;32m----> 1\u001b[0m \u001b[43mpokemon\u001b[49m\u001b[43m[\u001b[49m\u001b[38;5;124;43m'\u001b[39;49m\u001b[38;5;124;43mMaki\u001b[39;49m\u001b[38;5;124;43m'\u001b[39;49m\u001b[43m]\u001b[49m\n",
      "File \u001b[1;32m~\\AppData\\Local\\Programs\\Python\\Python311\\Lib\\site-packages\\pandas\\core\\series.py:1007\u001b[0m, in \u001b[0;36mSeries.__getitem__\u001b[1;34m(self, key)\u001b[0m\n\u001b[0;32m   1004\u001b[0m     \u001b[38;5;28;01mreturn\u001b[39;00m \u001b[38;5;28mself\u001b[39m\u001b[38;5;241m.\u001b[39m_values[key]\n\u001b[0;32m   1006\u001b[0m \u001b[38;5;28;01melif\u001b[39;00m key_is_scalar:\n\u001b[1;32m-> 1007\u001b[0m     \u001b[38;5;28;01mreturn\u001b[39;00m \u001b[38;5;28;43mself\u001b[39;49m\u001b[38;5;241;43m.\u001b[39;49m\u001b[43m_get_value\u001b[49m\u001b[43m(\u001b[49m\u001b[43mkey\u001b[49m\u001b[43m)\u001b[49m\n\u001b[0;32m   1009\u001b[0m \u001b[38;5;28;01mif\u001b[39;00m is_hashable(key):\n\u001b[0;32m   1010\u001b[0m     \u001b[38;5;66;03m# Otherwise index.get_value will raise InvalidIndexError\u001b[39;00m\n\u001b[0;32m   1011\u001b[0m     \u001b[38;5;28;01mtry\u001b[39;00m:\n\u001b[0;32m   1012\u001b[0m         \u001b[38;5;66;03m# For labels that don't resolve as scalars like tuples and frozensets\u001b[39;00m\n",
      "File \u001b[1;32m~\\AppData\\Local\\Programs\\Python\\Python311\\Lib\\site-packages\\pandas\\core\\series.py:1116\u001b[0m, in \u001b[0;36mSeries._get_value\u001b[1;34m(self, label, takeable)\u001b[0m\n\u001b[0;32m   1113\u001b[0m     \u001b[38;5;28;01mreturn\u001b[39;00m \u001b[38;5;28mself\u001b[39m\u001b[38;5;241m.\u001b[39m_values[label]\n\u001b[0;32m   1115\u001b[0m \u001b[38;5;66;03m# Similar to Index.get_value, but we do not fall back to positional\u001b[39;00m\n\u001b[1;32m-> 1116\u001b[0m loc \u001b[38;5;241m=\u001b[39m \u001b[38;5;28;43mself\u001b[39;49m\u001b[38;5;241;43m.\u001b[39;49m\u001b[43mindex\u001b[49m\u001b[38;5;241;43m.\u001b[39;49m\u001b[43mget_loc\u001b[49m\u001b[43m(\u001b[49m\u001b[43mlabel\u001b[49m\u001b[43m)\u001b[49m\n\u001b[0;32m   1118\u001b[0m \u001b[38;5;28;01mif\u001b[39;00m is_integer(loc):\n\u001b[0;32m   1119\u001b[0m     \u001b[38;5;28;01mreturn\u001b[39;00m \u001b[38;5;28mself\u001b[39m\u001b[38;5;241m.\u001b[39m_values[loc]\n",
      "File \u001b[1;32m~\\AppData\\Local\\Programs\\Python\\Python311\\Lib\\site-packages\\pandas\\core\\indexes\\base.py:3655\u001b[0m, in \u001b[0;36mIndex.get_loc\u001b[1;34m(self, key)\u001b[0m\n\u001b[0;32m   3653\u001b[0m     \u001b[38;5;28;01mreturn\u001b[39;00m \u001b[38;5;28mself\u001b[39m\u001b[38;5;241m.\u001b[39m_engine\u001b[38;5;241m.\u001b[39mget_loc(casted_key)\n\u001b[0;32m   3654\u001b[0m \u001b[38;5;28;01mexcept\u001b[39;00m \u001b[38;5;167;01mKeyError\u001b[39;00m \u001b[38;5;28;01mas\u001b[39;00m err:\n\u001b[1;32m-> 3655\u001b[0m     \u001b[38;5;28;01mraise\u001b[39;00m \u001b[38;5;167;01mKeyError\u001b[39;00m(key) \u001b[38;5;28;01mfrom\u001b[39;00m \u001b[38;5;21;01merr\u001b[39;00m\n\u001b[0;32m   3656\u001b[0m \u001b[38;5;28;01mexcept\u001b[39;00m \u001b[38;5;167;01mTypeError\u001b[39;00m:\n\u001b[0;32m   3657\u001b[0m     \u001b[38;5;66;03m# If we have a listlike key, _check_indexing_error will raise\u001b[39;00m\n\u001b[0;32m   3658\u001b[0m     \u001b[38;5;66;03m#  InvalidIndexError. Otherwise we fall through and re-raise\u001b[39;00m\n\u001b[0;32m   3659\u001b[0m     \u001b[38;5;66;03m#  the TypeError.\u001b[39;00m\n\u001b[0;32m   3660\u001b[0m     \u001b[38;5;28mself\u001b[39m\u001b[38;5;241m.\u001b[39m_check_indexing_error(key)\n",
      "\u001b[1;31mKeyError\u001b[0m: 'Maki'"
     ]
    }
   ],
   "source": [
    "pokemon['Maki']"
   ]
  },
  {
   "cell_type": "code",
   "execution_count": 50,
   "id": "b0f859a7-3b0c-4b6a-91ad-dccbce4f5869",
   "metadata": {},
   "outputs": [
    {
     "data": {
      "text/plain": [
       "'Nonexistent'"
      ]
     },
     "execution_count": 50,
     "metadata": {},
     "output_type": "execute_result"
    }
   ],
   "source": [
    "pokemon.get(\"Maki\",\"Nonexistent\")"
   ]
  },
  {
   "cell_type": "code",
   "execution_count": 51,
   "id": "cbb7bed9-4a3e-4a71-8fed-384aa753e467",
   "metadata": {},
   "outputs": [
    {
     "data": {
      "text/plain": [
       "'Grass, Poison'"
      ]
     },
     "execution_count": 51,
     "metadata": {},
     "output_type": "execute_result"
    }
   ],
   "source": [
    "pokemon.get(\"Bulbasaur\",\"Nonexistent\")"
   ]
  },
  {
   "cell_type": "code",
   "execution_count": 52,
   "id": "8fe49fdb-c897-4d56-ae96-1dd5becc7111",
   "metadata": {},
   "outputs": [
    {
     "data": {
      "text/plain": [
       "'Grass, Poison'"
      ]
     },
     "execution_count": 52,
     "metadata": {},
     "output_type": "execute_result"
    }
   ],
   "source": [
    "pokemon.get(0)"
   ]
  },
  {
   "cell_type": "markdown",
   "id": "f3d5000a-407b-4e73-b7eb-78c92f1cdd2d",
   "metadata": {},
   "source": [
    "# Overwrite a Series value\n",
    "* Use the loc/iloc accessor to largets an index label/position , then use an equal sign to provide a new value."
   ]
  },
  {
   "cell_type": "code",
   "execution_count": 54,
   "id": "e65e9de2-154e-4d9c-ac28-55fc3ea27eeb",
   "metadata": {},
   "outputs": [],
   "source": [
    "pokemon.loc['Bulbasaur']=\"Maki\""
   ]
  },
  {
   "cell_type": "code",
   "execution_count": 55,
   "id": "82eef726-1bf5-4d59-a882-5fe2af2a9f89",
   "metadata": {},
   "outputs": [
    {
     "data": {
      "text/plain": [
       "Name\n",
       "Bulbasaur              Maki\n",
       "Ivysaur       Grass, Poison\n",
       "Venusaur      Grass, Poison\n",
       "Charmander             Fire\n",
       "Charmeleon             Fire\n",
       "Name: Type, dtype: object"
      ]
     },
     "execution_count": 55,
     "metadata": {},
     "output_type": "execute_result"
    }
   ],
   "source": [
    "pokemon.head()"
   ]
  },
  {
   "cell_type": "code",
   "execution_count": 56,
   "id": "c93304a3-d120-4bc3-a873-c83695136edf",
   "metadata": {},
   "outputs": [
    {
     "data": {
      "text/plain": [
       "'Maki'"
      ]
     },
     "execution_count": 56,
     "metadata": {},
     "output_type": "execute_result"
    }
   ],
   "source": [
    "pokemon['Bulbasaur']"
   ]
  },
  {
   "cell_type": "code",
   "execution_count": 59,
   "id": "2ff2976a-b42b-4927-a604-e914bb84eb7a",
   "metadata": {},
   "outputs": [],
   "source": [
    "pokemon.iloc[[1,2 ,4]]=[\"maki\",\"qwer\",\"wqew\"]"
   ]
  },
  {
   "cell_type": "code",
   "execution_count": 60,
   "id": "638f08be-27b7-4de8-bad0-4df4cc4e9ab2",
   "metadata": {},
   "outputs": [
    {
     "data": {
      "text/plain": [
       "Name\n",
       "Bulbasaur     Maki\n",
       "Ivysaur       maki\n",
       "Venusaur      qwer\n",
       "Charmander    Fire\n",
       "Charmeleon    wqew\n",
       "Name: Type, dtype: object"
      ]
     },
     "execution_count": 60,
     "metadata": {},
     "output_type": "execute_result"
    }
   ],
   "source": [
    "pokemon.head()"
   ]
  },
  {
   "cell_type": "code",
   "execution_count": 61,
   "id": "1d93a08a-2a73-484f-a4e7-695aa7c73da7",
   "metadata": {},
   "outputs": [],
   "source": [
    "pokemon.loc[\"Ivysaur\"]=\"i\""
   ]
  },
  {
   "cell_type": "code",
   "execution_count": 62,
   "id": "56974808-26ec-484a-90bc-7ce8779d0250",
   "metadata": {},
   "outputs": [
    {
     "data": {
      "text/plain": [
       "Name\n",
       "Bulbasaur    Maki\n",
       "Ivysaur         i\n",
       "Name: Type, dtype: object"
      ]
     },
     "execution_count": 62,
     "metadata": {},
     "output_type": "execute_result"
    }
   ],
   "source": [
    "pokemon[[\"Bulbasaur\", \"Ivysaur\"]]"
   ]
  },
  {
   "cell_type": "code",
   "execution_count": 63,
   "id": "e2f0f4c3-0ac8-486e-a8f5-318d08e05d7d",
   "metadata": {},
   "outputs": [
    {
     "data": {
      "text/plain": [
       "'Maki'"
      ]
     },
     "execution_count": 63,
     "metadata": {},
     "output_type": "execute_result"
    }
   ],
   "source": [
    "pokemon[0]"
   ]
  },
  {
   "cell_type": "markdown",
   "id": "c5e1f1e7-7985-4668-851a-3a169b5abd00",
   "metadata": {},
   "source": [
    "# The Copy method\n",
    "* A *copy* is a duplicate/replica of an object.\n",
    "* Changes to a copy do not modify the original object.\n",
    "* A *view* is a different way of looking at the same data.\n",
    "* Changes to a view do modify the original object."
   ]
  },
  {
   "cell_type": "code",
   "execution_count": 76,
   "id": "81724266-709a-4630-9032-9d4444d07678",
   "metadata": {},
   "outputs": [],
   "source": [
    "pokemon_df=pd.read_csv('pokemon.csv', usecols=[\"Name\"])"
   ]
  },
  {
   "cell_type": "code",
   "execution_count": 77,
   "id": "2bf47373-d544-4b77-8d8e-34d7e03a6bf2",
   "metadata": {},
   "outputs": [],
   "source": [
    "pokemon_series=pokemon_df.squeeze(\"columns\").copy()"
   ]
  },
  {
   "cell_type": "code",
   "execution_count": 78,
   "id": "1b8fe25a-fe03-40b6-8a7e-65f0f177f412",
   "metadata": {},
   "outputs": [
    {
     "data": {
      "text/plain": [
       "pandas.core.series.Series"
      ]
     },
     "execution_count": 78,
     "metadata": {},
     "output_type": "execute_result"
    }
   ],
   "source": [
    "type(pokemon_series)"
   ]
  },
  {
   "cell_type": "code",
   "execution_count": 79,
   "id": "8c1c5c71-3c9a-4b91-b7e8-b4b003ea07de",
   "metadata": {},
   "outputs": [],
   "source": [
    "pokemon_series[0]=\"whatever\""
   ]
  },
  {
   "cell_type": "code",
   "execution_count": 80,
   "id": "973851fc-e5c3-477e-843e-e5febe4eb011",
   "metadata": {},
   "outputs": [
    {
     "data": {
      "text/plain": [
       "0      whatever\n",
       "1       Ivysaur\n",
       "2      Venusaur\n",
       "3    Charmander\n",
       "4    Charmeleon\n",
       "Name: Name, dtype: object"
      ]
     },
     "execution_count": 80,
     "metadata": {},
     "output_type": "execute_result"
    }
   ],
   "source": [
    "pokemon_series.head()"
   ]
  },
  {
   "cell_type": "code",
   "execution_count": 81,
   "id": "d0d5c61f-dfb2-4b64-9f84-adb0fe439f3f",
   "metadata": {},
   "outputs": [
    {
     "data": {
      "text/html": [
       "<div>\n",
       "<style scoped>\n",
       "    .dataframe tbody tr th:only-of-type {\n",
       "        vertical-align: middle;\n",
       "    }\n",
       "\n",
       "    .dataframe tbody tr th {\n",
       "        vertical-align: top;\n",
       "    }\n",
       "\n",
       "    .dataframe thead th {\n",
       "        text-align: right;\n",
       "    }\n",
       "</style>\n",
       "<table border=\"1\" class=\"dataframe\">\n",
       "  <thead>\n",
       "    <tr style=\"text-align: right;\">\n",
       "      <th></th>\n",
       "      <th>Name</th>\n",
       "    </tr>\n",
       "  </thead>\n",
       "  <tbody>\n",
       "    <tr>\n",
       "      <th>0</th>\n",
       "      <td>Bulbasaur</td>\n",
       "    </tr>\n",
       "    <tr>\n",
       "      <th>1</th>\n",
       "      <td>Ivysaur</td>\n",
       "    </tr>\n",
       "    <tr>\n",
       "      <th>2</th>\n",
       "      <td>Venusaur</td>\n",
       "    </tr>\n",
       "    <tr>\n",
       "      <th>3</th>\n",
       "      <td>Charmander</td>\n",
       "    </tr>\n",
       "    <tr>\n",
       "      <th>4</th>\n",
       "      <td>Charmeleon</td>\n",
       "    </tr>\n",
       "  </tbody>\n",
       "</table>\n",
       "</div>"
      ],
      "text/plain": [
       "         Name\n",
       "0   Bulbasaur\n",
       "1     Ivysaur\n",
       "2    Venusaur\n",
       "3  Charmander\n",
       "4  Charmeleon"
      ]
     },
     "execution_count": 81,
     "metadata": {},
     "output_type": "execute_result"
    }
   ],
   "source": [
    "pokemon_df.head()"
   ]
  },
  {
   "cell_type": "markdown",
   "id": "0482361c-e86c-4198-a607-ed7a7089d0cf",
   "metadata": {},
   "source": [
    "# Math Methods on Series Objects\n",
    "* count- returns the number of values in the Series. It excludes missing values,  the *size* includes missing values.\n",
    "* sum, product, mean, std, max, min, median, mode.\n",
    "* describe - returns  a summary with various mathematical calculations."
   ]
  },
  {
   "cell_type": "markdown",
   "id": "f5c0985c-ed9e-473e-a88a-10860513cbbd",
   "metadata": {},
   "source": [
    "# Broadcasting\n",
    "* **Broadcasting** describes the process of applying an arithemetic operation to an array.(i.e., a **Series**)\n",
    "* We can combine mathematical opearations with a **Series** to apply the mathematical opearation to every value.\n",
    "* There are also methods to accomplish the same results (*add*, *sub*, *mul*, *div*)."
   ]
  },
  {
   "cell_type": "code",
   "execution_count": 82,
   "id": "cb69fdfc-bbc9-4a11-adf3-1946925d6f69",
   "metadata": {},
   "outputs": [],
   "source": [
    "google=pd.read_csv('google_stock_price.csv', usecols=[\"Price\"]).squeeze(\"columns\")"
   ]
  },
  {
   "cell_type": "code",
   "execution_count": 84,
   "id": "0edcc32b-5cdb-4b84-958c-506439318522",
   "metadata": {},
   "outputs": [
    {
     "data": {
      "text/plain": [
       "0    2.490664\n",
       "1    2.515820\n",
       "2    2.758411\n",
       "3    2.770615\n",
       "4    2.614201\n",
       "Name: Price, dtype: float64"
      ]
     },
     "execution_count": 84,
     "metadata": {},
     "output_type": "execute_result"
    }
   ],
   "source": [
    "google.head()"
   ]
  },
  {
   "cell_type": "code",
   "execution_count": 85,
   "id": "6d7fa4e4-9810-42bd-8ed3-d9ad38855401",
   "metadata": {},
   "outputs": [
    {
     "data": {
      "text/plain": [
       "0        12.490664\n",
       "1        12.515820\n",
       "2        12.758411\n",
       "3        12.770615\n",
       "4        12.614201\n",
       "           ...    \n",
       "4788    142.080002\n",
       "4789    142.998001\n",
       "4790    145.570007\n",
       "4791    147.050003\n",
       "4792    148.429993\n",
       "Name: Price, Length: 4793, dtype: float64"
      ]
     },
     "execution_count": 85,
     "metadata": {},
     "output_type": "execute_result"
    }
   ],
   "source": [
    "google+ 10"
   ]
  },
  {
   "cell_type": "code",
   "execution_count": 86,
   "id": "a0f52fce-d099-4f47-9f01-93efa4a2cf1e",
   "metadata": {},
   "outputs": [
    {
     "data": {
      "text/plain": [
       "0        12.490664\n",
       "1        12.515820\n",
       "2        12.758411\n",
       "3        12.770615\n",
       "4        12.614201\n",
       "           ...    \n",
       "4788    142.080002\n",
       "4789    142.998001\n",
       "4790    145.570007\n",
       "4791    147.050003\n",
       "4792    148.429993\n",
       "Name: Price, Length: 4793, dtype: float64"
      ]
     },
     "execution_count": 86,
     "metadata": {},
     "output_type": "execute_result"
    }
   ],
   "source": [
    "google.add(10)"
   ]
  },
  {
   "cell_type": "code",
   "execution_count": 89,
   "id": "d718e0ba-a711-48c9-93c0-851b9b8ab3c5",
   "metadata": {},
   "outputs": [
    {
     "data": {
      "text/plain": [
       "0        -7.509336\n",
       "1        -7.484180\n",
       "2        -7.241589\n",
       "3        -7.229385\n",
       "4        -7.385799\n",
       "           ...    \n",
       "4788    122.080002\n",
       "4789    122.998001\n",
       "4790    125.570007\n",
       "4791    127.050003\n",
       "4792    128.429993\n",
       "Name: Price, Length: 4793, dtype: float64"
      ]
     },
     "execution_count": 89,
     "metadata": {},
     "output_type": "execute_result"
    }
   ],
   "source": [
    "google.sub(10)"
   ]
  },
  {
   "cell_type": "code",
   "execution_count": 90,
   "id": "009035a0-196e-4140-8569-f9f26d5e3ffc",
   "metadata": {},
   "outputs": [
    {
     "data": {
      "text/plain": [
       "0         2.490664\n",
       "1         2.515820\n",
       "2         2.758411\n",
       "3         2.770615\n",
       "4         2.614201\n",
       "           ...    \n",
       "4788    132.080002\n",
       "4789    132.998001\n",
       "4790    135.570007\n",
       "4791    137.050003\n",
       "4792    138.429993\n",
       "Name: Price, Length: 4793, dtype: float64"
      ]
     },
     "execution_count": 90,
     "metadata": {},
     "output_type": "execute_result"
    }
   ],
   "source": [
    "google"
   ]
  },
  {
   "cell_type": "code",
   "execution_count": 91,
   "id": "59709225-875e-47cb-b356-e396d0747c92",
   "metadata": {},
   "outputs": [
    {
     "data": {
      "text/plain": [
       "0        -7.509336\n",
       "1        -7.484180\n",
       "2        -7.241589\n",
       "3        -7.229385\n",
       "4        -7.385799\n",
       "           ...    \n",
       "4788    122.080002\n",
       "4789    122.998001\n",
       "4790    125.570007\n",
       "4791    127.050003\n",
       "4792    128.429993\n",
       "Name: Price, Length: 4793, dtype: float64"
      ]
     },
     "execution_count": 91,
     "metadata": {},
     "output_type": "execute_result"
    }
   ],
   "source": [
    "google-10"
   ]
  },
  {
   "cell_type": "code",
   "execution_count": 93,
   "id": "36961d1b-5e72-4139-9251-b12c91ad7356",
   "metadata": {},
   "outputs": [
    {
     "data": {
      "text/plain": [
       "0         24.90664\n",
       "1         25.15820\n",
       "2         27.58411\n",
       "3         27.70615\n",
       "4         26.14201\n",
       "           ...    \n",
       "4788    1320.80002\n",
       "4789    1329.98001\n",
       "4790    1355.70007\n",
       "4791    1370.50003\n",
       "4792    1384.29993\n",
       "Name: Price, Length: 4793, dtype: float64"
      ]
     },
     "execution_count": 93,
     "metadata": {},
     "output_type": "execute_result"
    }
   ],
   "source": [
    "google*10\n",
    "google.mul(10)"
   ]
  },
  {
   "cell_type": "code",
   "execution_count": 96,
   "id": "7f2af8e9-3801-432d-af80-0f67c6a7d70e",
   "metadata": {},
   "outputs": [
    {
     "data": {
      "text/plain": [
       "0        1.245332\n",
       "1        1.257910\n",
       "2        1.379206\n",
       "3        1.385307\n",
       "4        1.307100\n",
       "          ...    \n",
       "4788    66.040001\n",
       "4789    66.499000\n",
       "4790    67.785004\n",
       "4791    68.525002\n",
       "4792    69.214996\n",
       "Name: Price, Length: 4793, dtype: float64"
      ]
     },
     "execution_count": 96,
     "metadata": {},
     "output_type": "execute_result"
    }
   ],
   "source": [
    "google/2\n",
    "google.div(2)\n"
   ]
  },
  {
   "cell_type": "markdown",
   "id": "4b326e32-9360-4ca6-95aa-21b0b6ed9f53",
   "metadata": {},
   "source": [
    "# The value_counts Method\n",
    "* The **value_counts** method returns the number of times each unique value occurs in the **Series**.\n",
    "* The **normalize** parameter returns the relative frequencies/percentages of the values instaed of the counts."
   ]
  },
  {
   "cell_type": "code",
   "execution_count": 100,
   "id": "7314c76c-5a63-4cf6-9bc1-bab06f0c7d9d",
   "metadata": {},
   "outputs": [
    {
     "data": {
      "text/plain": [
       "4793"
      ]
     },
     "execution_count": 100,
     "metadata": {},
     "output_type": "execute_result"
    }
   ],
   "source": [
    "google.count()"
   ]
  },
  {
   "cell_type": "code",
   "execution_count": 108,
   "id": "3f9bff86-e68e-4f20-a018-9ea91ad3ff04",
   "metadata": {},
   "outputs": [
    {
     "data": {
      "text/plain": [
       "Price\n",
       "2.490664     0.000209\n",
       "41.775501    0.000209\n",
       "41.619999    0.000209\n",
       "41.397999    0.000209\n",
       "41.269501    0.000209\n",
       "               ...   \n",
       "11.457056    0.000626\n",
       "39.000000    0.000626\n",
       "14.022440    0.000626\n",
       "14.719826    0.000835\n",
       "49.000000    0.000835\n",
       "Name: proportion, Length: 4652, dtype: float64"
      ]
     },
     "execution_count": 108,
     "metadata": {},
     "output_type": "execute_result"
    }
   ],
   "source": [
    "google.value_counts(ascending=True, normalize=True)"
   ]
  },
  {
   "cell_type": "markdown",
   "id": "d6581b38-e476-4a75-a640-8dac4a0abcd9",
   "metadata": {},
   "source": [
    "# The apply method\n",
    "* The **apply** method accepts a function. It invokes that function on every **Series** value."
   ]
  },
  {
   "cell_type": "code",
   "execution_count": 109,
   "id": "1d71cf0a-f536-4464-bdb1-9412fae515c0",
   "metadata": {},
   "outputs": [
    {
     "data": {
      "text/plain": [
       "Name\n",
       "Bulbasaur        4\n",
       "Ivysaur          1\n",
       "Venusaur         4\n",
       "Charmander       4\n",
       "Charmeleon       4\n",
       "                ..\n",
       "Iron Valiant    15\n",
       "Koraidon        16\n",
       "Miraidon        16\n",
       "Walking Wake    13\n",
       "Iron Leaves     14\n",
       "Name: Type, Length: 1010, dtype: int64"
      ]
     },
     "execution_count": 109,
     "metadata": {},
     "output_type": "execute_result"
    }
   ],
   "source": [
    "pokemon.apply(len)"
   ]
  },
  {
   "cell_type": "code",
   "execution_count": 118,
   "id": "d3b9d1ca-813c-4f4d-983c-bde3f4f1f9f3",
   "metadata": {},
   "outputs": [],
   "source": [
    "def count_of_a(text):\n",
    "    return text.count(\"a\")"
   ]
  },
  {
   "cell_type": "markdown",
   "id": "0c26f743-95af-44bf-a694-1780c2ab1492",
   "metadata": {},
   "source": [
    "pokemon.apply(count_of_a)"
   ]
  },
  {
   "cell_type": "code",
   "execution_count": 120,
   "id": "d59c6007-1cc9-4683-a6d2-54a70531a4b9",
   "metadata": {},
   "outputs": [
    {
     "data": {
      "text/plain": [
       "Name\n",
       "Bulbasaur                   Maki\n",
       "Ivysaur                        i\n",
       "Venusaur                    qwer\n",
       "Charmander                  Fire\n",
       "Charmeleon                  wqew\n",
       "                      ...       \n",
       "Iron Valiant     Fairy, Fighting\n",
       "Koraidon        Fighting, Dragon\n",
       "Miraidon        Electric, Dragon\n",
       "Walking Wake       Water, Dragon\n",
       "Iron Leaves       Grass, Psychic\n",
       "Name: Type, Length: 1010, dtype: object"
      ]
     },
     "execution_count": 120,
     "metadata": {},
     "output_type": "execute_result"
    }
   ],
   "source": [
    "pokemon"
   ]
  },
  {
   "cell_type": "markdown",
   "id": "c78d5ca1-48a4-4a72-8d9f-2de7f72fa8da",
   "metadata": {},
   "source": [
    "# The map Method\n",
    "* The **map** method 'maps' or connects each **Series** values to another value.\n",
    "* We can pass the method a dictionary or a Series. Bothtypes connects keys to values.\n",
    "* The **map** method uses our argument to connect or bridge together the values."
   ]
  },
  {
   "cell_type": "code",
   "execution_count": 121,
   "id": "5966bc8d-dadd-4d78-aed3-e9a68158027e",
   "metadata": {},
   "outputs": [],
   "source": [
    "import pandas as pd\n",
    "\n",
    "# Series.map()\n",
    "series = pd.Series(['apple', 'banana', 'orange'])\n",
    "\n",
    "# Using a dictionary to map values\n",
    "fruit_dict = {'apple': 'red', 'banana': 'yellow', 'orange': 'orange'}\n",
    "series_mapped = series.map(fruit_dict)\n",
    "\n",
    "# Using a function to map values\n",
    "def get_length(value):\n",
    "    return len(value)\n",
    "\n",
    "series_length = series.map(get_length)\n"
   ]
  },
  {
   "cell_type": "code",
   "execution_count": 122,
   "id": "5f0d1848-318a-4a11-871c-8665aa39fa0c",
   "metadata": {},
   "outputs": [
    {
     "data": {
      "text/plain": [
       "0    5\n",
       "1    6\n",
       "2    6\n",
       "dtype: int64"
      ]
     },
     "execution_count": 122,
     "metadata": {},
     "output_type": "execute_result"
    }
   ],
   "source": [
    "series_length"
   ]
  },
  {
   "cell_type": "code",
   "execution_count": 124,
   "id": "8d2fb75e-ea6e-4b0c-8490-cec77a9af574",
   "metadata": {},
   "outputs": [],
   "source": [
    "series_length = series.map(get_length)"
   ]
  },
  {
   "cell_type": "code",
   "execution_count": 125,
   "id": "f3e3cf57-a2de-411f-bb23-64910c838a6f",
   "metadata": {},
   "outputs": [
    {
     "data": {
      "text/plain": [
       "0    5\n",
       "1    6\n",
       "2    6\n",
       "dtype: int64"
      ]
     },
     "execution_count": 125,
     "metadata": {},
     "output_type": "execute_result"
    }
   ],
   "source": [
    "series_length"
   ]
  },
  {
   "cell_type": "code",
   "execution_count": 126,
   "id": "f3d0782f-204f-4e37-a26c-be4c035ef854",
   "metadata": {},
   "outputs": [],
   "source": [
    "series_length = series.apply(get_length)"
   ]
  },
  {
   "cell_type": "code",
   "execution_count": 127,
   "id": "e1785497-28dd-4605-a045-164ecbba05d8",
   "metadata": {},
   "outputs": [
    {
     "data": {
      "text/plain": [
       "0    5\n",
       "1    6\n",
       "2    6\n",
       "dtype: int64"
      ]
     },
     "execution_count": 127,
     "metadata": {},
     "output_type": "execute_result"
    }
   ],
   "source": [
    "series_length"
   ]
  },
  {
   "cell_type": "code",
   "execution_count": 128,
   "id": "a697a235-a216-472d-b603-4dfa37424920",
   "metadata": {},
   "outputs": [],
   "source": [
    "add_lambda=lambda x,y:x+y"
   ]
  },
  {
   "cell_type": "code",
   "execution_count": 129,
   "id": "224733cc-e752-41af-aea6-b663174c4998",
   "metadata": {},
   "outputs": [
    {
     "data": {
      "text/plain": [
       "7"
      ]
     },
     "execution_count": 129,
     "metadata": {},
     "output_type": "execute_result"
    }
   ],
   "source": [
    "add_lambda(3,4)"
   ]
  },
  {
   "cell_type": "code",
   "execution_count": 130,
   "id": "9d411192-5eb8-493f-9e65-c4022fcb2cf3",
   "metadata": {},
   "outputs": [
    {
     "name": "stdout",
     "output_type": "stream",
     "text": [
      "[1, 4, 9, 16, 25]\n"
     ]
    }
   ],
   "source": [
    "numbers = [1, 2, 3, 4, 5]\n",
    "squared_numbers = list(map(lambda x: x**2, numbers))\n",
    "print(squared_numbers)  # Output: [1, 4, 9, 16, 25]\n"
   ]
  },
  {
   "cell_type": "code",
   "execution_count": 131,
   "id": "4a9be2d3-44a0-450b-bbe3-37673fcb6c79",
   "metadata": {},
   "outputs": [],
   "source": [
    "students = [('Alice', 22), ('Bob', 18), ('Charlie', 25)]\n",
    "sorted_students = sorted(students, key=lambda student: student[1])\n"
   ]
  },
  {
   "cell_type": "code",
   "execution_count": 132,
   "id": "6cb4aef3-4c57-4792-b552-2c53eda65546",
   "metadata": {},
   "outputs": [
    {
     "data": {
      "text/plain": [
       "[('Bob', 18), ('Alice', 22), ('Charlie', 25)]"
      ]
     },
     "execution_count": 132,
     "metadata": {},
     "output_type": "execute_result"
    }
   ],
   "source": [
    "sorted_students"
   ]
  },
  {
   "cell_type": "code",
   "execution_count": 137,
   "id": "f2249b98-d8e1-4ba2-a8e4-593876054548",
   "metadata": {},
   "outputs": [
    {
     "data": {
      "text/plain": [
       "4793"
      ]
     },
     "execution_count": 137,
     "metadata": {},
     "output_type": "execute_result"
    }
   ],
   "source": [
    "google.count()"
   ]
  },
  {
   "cell_type": "code",
   "execution_count": null,
   "id": "fbfd183b-7e63-4b50-b5dd-5277931e4e04",
   "metadata": {},
   "outputs": [],
   "source": []
  }
 ],
 "metadata": {
  "kernelspec": {
   "display_name": "Python 3 (ipykernel)",
   "language": "python",
   "name": "python3"
  },
  "language_info": {
   "codemirror_mode": {
    "name": "ipython",
    "version": 3
   },
   "file_extension": ".py",
   "mimetype": "text/x-python",
   "name": "python",
   "nbconvert_exporter": "python",
   "pygments_lexer": "ipython3",
   "version": "3.11.4"
  }
 },
 "nbformat": 4,
 "nbformat_minor": 5
}
